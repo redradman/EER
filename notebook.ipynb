{
 "cells": [
  {
   "cell_type": "code",
   "execution_count": 8,
   "id": "3c7def65-3557-47ea-ba27-07c308166940",
   "metadata": {},
   "outputs": [
    {
     "data": {
      "text/plain": [
       "array(['https://entrepreneurship.ubc.ca/ | https://entrepreneurship.ubc.ca/who-we-are'],\n",
       "      dtype=object)"
      ]
     },
     "execution_count": 8,
     "metadata": {},
     "output_type": "execute_result"
    }
   ],
   "source": [
    "import pandas as pd\n",
    "df2 = pd.read_csv('sample_data_multiple_links.csv', index_col = 0)\n",
    "df2."
   ]
  },
  {
   "cell_type": "code",
   "execution_count": 43,
   "id": "be40ceda-bf5c-47c3-afd7-0d06da304d64",
   "metadata": {},
   "outputs": [],
   "source": [
    "df_dict = df2.to_dict()\n",
    "# dict"
   ]
  },
  {
   "cell_type": "code",
   "execution_count": 45,
   "id": "2dcb3fc4-65d9-4c6e-a643-45775016d358",
   "metadata": {},
   "outputs": [
    {
     "data": {
      "text/plain": [
       "{'e@UBCV': 'https://entrepreneurship.ubc.ca/ | https://entrepreneurship.ubc.ca/who-we-are',\n",
       " 'e@UBCO': nan,\n",
       " 'UBC Social Enterprise Club': nan,\n",
       " 'eProjects UBC': nan,\n",
       " 'Enactus UBC': nan,\n",
       " 'Innovation UBC Hub': nan,\n",
       " 'Summit Leaders': nan,\n",
       " 'UBC Sauder LIFT': nan,\n",
       " 'UBC MBA Innovation & Entrepreneurship club': nan,\n",
       " 'Innovation on Board': nan,\n",
       " 'Engineers without borders': nan,\n",
       " 'Startup Pitch Competition event: UBC SOAR': nan,\n",
       " 'LaunchWeek': nan}"
      ]
     },
     "execution_count": 45,
     "metadata": {},
     "output_type": "execute_result"
    }
   ],
   "source": [
    "df_dict[list(df_dict.keys())[0]]"
   ]
  },
  {
   "cell_type": "code",
   "execution_count": 46,
   "id": "2f94c811-7a10-4ba6-ae14-6ea79171b304",
   "metadata": {},
   "outputs": [
    {
     "name": "stdout",
     "output_type": "stream",
     "text": [
      "['https://entrepreneurship.ubc.ca/ ', ' https://entrepreneurship.ubc.ca/who-we-are']\n",
      "['https://entrepreneurship.ubc.ca/', 'https://entrepreneurship.ubc.ca/who-we-are']\n"
     ]
    }
   ],
   "source": [
    "import math\n",
    "maindict = df_dict[\"Link\"]\n",
    "for key in maindict.keys():\n",
    "    link_string = maindict[key]\n",
    "    # check if there is an entry \n",
    "    if isinstance(link_string, str):\n",
    "        # generate a list and seperate the links using | as a delim \n",
    "        parsed_list = link_string.split('|')\n",
    "        # removal of any whitespaces from all links\n",
    "        no_space_list = list(map(lambda x: x.replace(\" \", \"\"), parsed_list))\n",
    "        print(parsed_list)\n",
    "        print(no_space_list)"
   ]
  },
  {
   "cell_type": "code",
   "execution_count": null,
   "id": "d123f034-8901-42ad-b4fc-897a41b71a07",
   "metadata": {},
   "outputs": [],
   "source": []
  }
 ],
 "metadata": {
  "kernelspec": {
   "display_name": "Python 3 (ipykernel)",
   "language": "python",
   "name": "python3"
  },
  "language_info": {
   "codemirror_mode": {
    "name": "ipython",
    "version": 3
   },
   "file_extension": ".py",
   "mimetype": "text/x-python",
   "name": "python",
   "nbconvert_exporter": "python",
   "pygments_lexer": "ipython3",
   "version": "3.10.1"
  }
 },
 "nbformat": 4,
 "nbformat_minor": 5
}

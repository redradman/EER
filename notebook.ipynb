{
 "cells": [
  {
   "cell_type": "code",
   "execution_count": 8,
   "id": "3c7def65-3557-47ea-ba27-07c308166940",
   "metadata": {},
   "outputs": [
    {
     "data": {
      "text/plain": [
       "array(['https://entrepreneurship.ubc.ca/ | https://entrepreneurship.ubc.ca/who-we-are'],\n",
       "      dtype=object)"
      ]
     },
     "execution_count": 8,
     "metadata": {},
     "output_type": "execute_result"
    }
   ],
   "source": [
    "import pandas as pd\n",
    "df2 = pd.read_csv('sample_data_multiple_links.csv', index_col = 0)\n",
    "df2."
   ]
  },
  {
   "cell_type": "code",
   "execution_count": 37,
   "id": "be40ceda-bf5c-47c3-afd7-0d06da304d64",
   "metadata": {},
   "outputs": [],
   "source": [
    "df_dict = df2.to_dict()\n",
    "list(df_dict.keys())\n",
    "df_dict.keys()\n",
    "# dict"
   ]
  },
  {
   "cell_type": "code",
   "execution_count": 13,
   "id": "2dcb3fc4-65d9-4c6e-a643-45775016d358",
   "metadata": {},
   "outputs": [
    {
     "data": {
      "text/plain": [
       "{'e@UBCV': 'https://entrepreneurship.ubc.ca/ | https://entrepreneurship.ubc.ca/who-we-are',\n",
       " 'e@UBCO': nan,\n",
       " 'UBC Social Enterprise Club': nan,\n",
       " 'eProjects UBC': nan,\n",
       " 'Enactus UBC': nan,\n",
       " 'Innovation UBC Hub': nan,\n",
       " 'Summit Leaders': nan,\n",
       " 'UBC Sauder LIFT': nan,\n",
       " 'UBC MBA Innovation & Entrepreneurship club': nan,\n",
       " 'Innovation on Board': nan,\n",
       " 'Engineers without borders': nan,\n",
       " 'Startup Pitch Competition event: UBC SOAR': nan,\n",
       " 'LaunchWeek': nan}"
      ]
     },
     "execution_count": 45,
     "metadata": {},
     "output_type": "execute_result"
    }
   ],
   "source": [
    "df_dict[\"Link\"]"
   ]
  },
  {
   "cell_type": "code",
   "execution_count": 38,
   "id": "2f94c811-7a10-4ba6-ae14-6ea79171b304",
   "metadata": {},
   "outputs": [
    {
     "name": "stdout",
     "output_type": "stream",
     "text": [
      "['https://entrepreneurship.ubc.ca/ ', ' https://entrepreneurship.ubc.ca/who-we-are']\n",
      "['https://entrepreneurship.ubc.ca/', 'https://entrepreneurship.ubc.ca/who-we-are']\n"
     ]
    }
   ],
   "source": [
    "import math\n",
    "maindict = df_dict[\"Link\"]\n",
    "for key in maindict.keys():\n",
    "    link_string = maindict[key]\n",
    "    # check if there is an entry \n",
    "    if isinstance(link_string, str):\n",
    "        # generate a list and seperate the links using | as a delim \n",
    "        parsed_list = link_string.split('|')\n",
    "        # removal of any whitespaces from all links\n",
    "        no_space_list = list(map(lambda x: x.replace(\" \", \"\"), parsed_list))\n",
    "        print(parsed_list)\n",
    "        print(no_space_list)"
   ]
  },
  {
   "cell_type": "markdown",
   "id": "073eb7a5-029a-4bfa-8571-a4d48d2b78c0",
   "metadata": {},
   "source": [
    "# network connection"
   ]
  },
  {
   "cell_type": "code",
   "execution_count": 53,
   "id": "a8307d23-10ee-48fe-981f-255127a06bd8",
   "metadata": {},
   "outputs": [
    {
     "data": {
      "text/plain": [
       "{'e@UBCV': ['https://entrepreneurship.ubc.ca/',\n",
       "  'https://entrepreneurship.ubc.ca/who-we-are']}"
      ]
     },
     "execution_count": 53,
     "metadata": {},
     "output_type": "execute_result"
    }
   ],
   "source": [
    "dict_with_links = {'e@UBCV': ['https://entrepreneurship.ubc.ca/', 'https://entrepreneurship.ubc.ca/who-we-are']}\n",
    "dict_with_links"
   ]
  },
  {
   "cell_type": "code",
   "execution_count": 52,
   "id": "2e6622e1-83ca-4994-bf58-28696de8226c",
   "metadata": {},
   "outputs": [
    {
     "data": {
      "text/plain": [
       "'https://entrepreneurship.ubc.ca/'"
      ]
     },
     "execution_count": 52,
     "metadata": {},
     "output_type": "execute_result"
    }
   ],
   "source": [
    "sample_link = dict_with_links['e@UBCV'][0]\n",
    "sample_link"
   ]
  },
  {
   "cell_type": "code",
   "execution_count": 71,
   "id": "49c1dbfa-7cd3-45b1-b79e-c919dd5da943",
   "metadata": {},
   "outputs": [],
   "source": [
    "import requests\n",
    "import bs4\n",
    "import re"
   ]
  },
  {
   "cell_type": "code",
   "execution_count": 83,
   "id": "6c5449ca-308f-4be5-b536-a393475379fe",
   "metadata": {},
   "outputs": [
    {
     "data": {
      "text/plain": [
       "'Welcome | entrepreneurship@ UBC  Skip to main content  We\\'re sorry but this site doesn\\'t work properly without  Java Script enabled.  Please enable it to continue.  Search  UBC  Search  Academic  Calendar  Campus  Services  Faculties &  Schools  Library  Maps  Quicklinks  Student  Service  Centre  UBC  Directory  The  University of  British  Columbia  UBC -  A  Place of  Mind  The  University of  British  Columbia  UBC  Search <a id=\"ubc7-global-utility-no-script\" href=\"https://www.ubc.ca/\"> UBC  Search</a> entrepreneurship@ UBC  Main navigation  Home  Who  We  Are  The  Team  Entrepreneurs in  Residence  Mentor  Network  Funders &  Collaborators  Locations  Media and  Brand  Resources  Engage with  Us  Venture  Founder  Venture  Studios  HATCH  Venture  Builder  Internship  Program  For- Credit  Courses  Black  Advisory  Hub  Discovery  Foundation  Job  Board  Your  Application  Journey  Lab2 Market  Validate  Latest  Updates  Events  News &  Blogs evolution  Podcast  Marquee  Events  Recording  Library  Reports  Venture  Portfolio  Venture  Marketplace  Donate  Subscribe to our  Newsletter  We are a part of  Innovation  UBC  Helping  UBC  Entrepreneurs  Change the  World  Learn  More  Unlocking the potential of promising  UBC startups.  We bring entrepreneurial thinking and leadership skills to  UBC’s population of students, staff and faculty, providing them the opportunity to explore a future in entrepreneurship and innovation.  As one of the top 40 research universities globally,  UBC is strengthened by its rich bedrock of interdisciplinary collaborations across faculties and institutes that bring together entrepreneurial thinkers looking to drive impact through venture creation.  Our  Philosophy:  The  Venture- Centric  Journey  Over our cumulative years of supporting more than 500+ ventures, we’ve learned the venture building journey is varied.  Our methodology embodies venture-centric thinking in order to meet ventures where they are.  Whether you are exploring entrepreneurship, looking to incubate your idea, or ready to accelerate building your venture, we offer a made by e@ UBC for e@ UBC ventures framework to help you launch your idea to impact.  Our venture-centric journey approach is rooted in an objective, goal-based matrix that helps us ensure equity, diversity and inclusion are at the heart of what we do in our efforts to help you succeed.  Venture  Founder  Applications  Now  Open  Apply by  June 14th and take your venture idea to the next level!  Learn  More 1,900  Full-time jobs created $1.75 B+  Capital raised $740 M+  Revenue generated 742  Ventures  Supported Meet our  Entrepreneurs in  Residence  View all Michele  Wallcraft Dr.  Shannon  Bard Chang  Han Jonathon  Jafari Angela  Hamilton View all Subscribe to our  Newsletter Subscribe now Follow our  Podcast &  Social Join us on our  Podcast Find us on  Facebook Find us on  Instagram Find us on  Twitter Find us on  Linkedin  Latest  Updates  May 7, 2024  Mentor  Corner:  Meet  Amer  Abu  Khajil  Read article  April 10, 2024  ARCA  Wins  Startup of the  Year in  Foresight’s  BC  Cleantech  Awards  Read article  View all  What we\\'re up to  June 11, 2024  Building  Climate  Governance featuring  Canada  Climate  Law  Initiative  Learn more  June 20, 2024  June  Women  Innovators  Meetup at  UBC  Robson  Square  Learn more  View all  Get in touch  Connect  Explore our programs  Learn more  Locations  We are located across  UBC  Point  Grey and  Robson  Square  Campus.  Learn more about our locations  We acknowledge that the  UBC  Point  Grey and  Robson  Square campuses are situated on the traditional, ancestral, and unceded territory of the xʷməθkʷəy̓əm ( Musqueam),  Skwxwú7mesh ( Squamish),  Stó:lō and  Səl̓ílwətaʔ/ Selilwitulh ( Tsleil-  Waututh)  Nations.  About us entrepreneurship@ UBC propels  UBC innovations out into the world through venture creation, providing  UBC students, faculty members and staff with the resources, networks, and funding they need to succeed.  We are a part of  Innovation  UBC in the  Vice- President,  Research and  Innovation ( VPRI) portfolio  The  University of  British  Columbia  About  UBC  Contact  UBC  About the  University  News  Events  Careers  Make a  Gift  Search  UBC.ca  UBC  Campuses  Vancouver  Campus  Okanagan  Campus  UBC  Sites  Robson  Square  Centre for  Digital  Media  Faculty of  Medicine  Across  BC  Emergency  Procedures |  Terms of  Use |  UBC  Copyright |  Accessibility to top  Arrow  An arrow indicating direction.'"
      ]
     },
     "execution_count": 83,
     "metadata": {},
     "output_type": "execute_result"
    }
   ],
   "source": [
    "r = requests.get(sample_link)\n",
    "r.raise_for_status()\n",
    "soup = bs4.BeautifulSoup(r.content, 'html.parser')\n",
    "text = soup.get_text().strip()\n",
    "\n",
    "\n",
    "# text cleaning \n",
    "cleaned_text = re.sub(r'\\s+', ' ', text).strip()\n",
    "\n",
    "# Add spaces before capital letters that are not at the beginning of a word and not part of abbreviations/acronyms\n",
    "cleaned_text = re.sub(r'(?<!^)(?<![A-Z])(?=[A-Z])', ' ', cleaned_text)\n",
    "\n",
    "# Remove any extra spaces after newlines\n",
    "cleaned_text = re.sub(r'\\n\\s+', '\\n', cleaned_text).strip()\n",
    "cleaned_text"
   ]
  },
  {
   "cell_type": "code",
   "execution_count": null,
   "id": "8582d8b7-a8bc-4db6-b27f-7a5f3ac75e81",
   "metadata": {},
   "outputs": [],
   "source": []
  },
  {
   "cell_type": "code",
   "execution_count": null,
   "id": "6756de97-e2a4-4dca-bb25-18b28f7223c1",
   "metadata": {},
   "outputs": [],
   "source": []
  }
 ],
 "metadata": {
  "kernelspec": {
   "display_name": "Python 3 (ipykernel)",
   "language": "python",
   "name": "python3"
  },
  "language_info": {
   "codemirror_mode": {
    "name": "ipython",
    "version": 3
   },
   "file_extension": ".py",
   "mimetype": "text/x-python",
   "name": "python",
   "nbconvert_exporter": "python",
   "pygments_lexer": "ipython3",
   "version": "3.10.1"
  }
 },
 "nbformat": 4,
 "nbformat_minor": 5
}
